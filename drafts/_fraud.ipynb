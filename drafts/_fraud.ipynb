{
 "cells": [
  {
   "cell_type": "markdown",
   "metadata": {},
   "source": [
    "# A fraud example with GNN\n",
    "\n",
    "There are cases in which graphs can detect hidden features in the data. This fraud example illustrates such a case.\n",
    "\n",
    "The example is based on a real case, although it has been extremely simplified."
   ]
  },
  {
   "cell_type": "markdown",
   "metadata": {},
   "source": [
    "## Problem setup\n",
    "\n",
    "The problem we will solve is commonly faced by e-commerce businesses. You have a list of products that users can buy, and a list of users. Users can be consumers or businesses. Consumers have a low entry bar: it's easy to create a consumer account and it is not usually verified. Consumers usually buy a lot less products than businesses. In this specific scenario, bad actors will attempt fraud by signing up for consumer accounts and buying lots of products, as if they were businesses.\n",
    "\n",
    "### The data\n",
    "\n",
    "For simplicity, the data consists only of three tables: a table of customers, a table of products and a table of purchases. \n",
    "\n",
    "Customers have two attributes: an identification number (customer_id) and an indicator variable is_consumer that denotes whether they are consumers (1 if they are consumers, 0 if they are businesses).\n",
    "\n",
    "For simplicity, products have no attributes, only a product identification number called SKU.\n",
    "\n",
    "Purchases have three attributes: the id of the customer that made the purchase, the id of the product and whether it was fraudulent or not (is_fraud).\n"
   ]
  },
  {
   "cell_type": "markdown",
   "metadata": {},
   "source": [
    "## Generating the data\n",
    "\n",
    "### Products \n",
    "The first table we will generate is the products data. The product ids start at 100001 and we have 10,000 products."
   ]
  },
  {
   "cell_type": "code",
   "execution_count": 2,
   "metadata": {},
   "outputs": [],
   "source": [
    "import pandas as pd\n",
    "\n",
    "products_df = pd.DataFrame (range(100001, 110000+1), columns=['sku'])"
   ]
  },
  {
   "cell_type": "code",
   "execution_count": 3,
   "metadata": {},
   "outputs": [
    {
     "data": {
      "text/html": [
       "<div>\n",
       "<style scoped>\n",
       "    .dataframe tbody tr th:only-of-type {\n",
       "        vertical-align: middle;\n",
       "    }\n",
       "\n",
       "    .dataframe tbody tr th {\n",
       "        vertical-align: top;\n",
       "    }\n",
       "\n",
       "    .dataframe thead th {\n",
       "        text-align: right;\n",
       "    }\n",
       "</style>\n",
       "<table border=\"1\" class=\"dataframe\">\n",
       "  <thead>\n",
       "    <tr style=\"text-align: right;\">\n",
       "      <th></th>\n",
       "      <th>sku</th>\n",
       "    </tr>\n",
       "  </thead>\n",
       "  <tbody>\n",
       "    <tr>\n",
       "      <th>0</th>\n",
       "      <td>100001</td>\n",
       "    </tr>\n",
       "    <tr>\n",
       "      <th>1</th>\n",
       "      <td>100002</td>\n",
       "    </tr>\n",
       "    <tr>\n",
       "      <th>2</th>\n",
       "      <td>100003</td>\n",
       "    </tr>\n",
       "    <tr>\n",
       "      <th>3</th>\n",
       "      <td>100004</td>\n",
       "    </tr>\n",
       "    <tr>\n",
       "      <th>4</th>\n",
       "      <td>100005</td>\n",
       "    </tr>\n",
       "    <tr>\n",
       "      <th>...</th>\n",
       "      <td>...</td>\n",
       "    </tr>\n",
       "    <tr>\n",
       "      <th>9995</th>\n",
       "      <td>109996</td>\n",
       "    </tr>\n",
       "    <tr>\n",
       "      <th>9996</th>\n",
       "      <td>109997</td>\n",
       "    </tr>\n",
       "    <tr>\n",
       "      <th>9997</th>\n",
       "      <td>109998</td>\n",
       "    </tr>\n",
       "    <tr>\n",
       "      <th>9998</th>\n",
       "      <td>109999</td>\n",
       "    </tr>\n",
       "    <tr>\n",
       "      <th>9999</th>\n",
       "      <td>110000</td>\n",
       "    </tr>\n",
       "  </tbody>\n",
       "</table>\n",
       "<p>10000 rows × 1 columns</p>\n",
       "</div>"
      ],
      "text/plain": [
       "         sku\n",
       "0     100001\n",
       "1     100002\n",
       "2     100003\n",
       "3     100004\n",
       "4     100005\n",
       "...      ...\n",
       "9995  109996\n",
       "9996  109997\n",
       "9997  109998\n",
       "9998  109999\n",
       "9999  110000\n",
       "\n",
       "[10000 rows x 1 columns]"
      ]
     },
     "execution_count": 3,
     "metadata": {},
     "output_type": "execute_result"
    }
   ],
   "source": [
    "products_df"
   ]
  },
  {
   "cell_type": "markdown",
   "metadata": {},
   "source": [
    "## Customers\n",
    "\n",
    "The customers table will be generated using the following random probabilities: we're going to generate 10,000 customers. A customer will have an 87% probability of being a consumer, a 3% probability of being a bad actor (unknown to us) and a 10% probability of being a business."
   ]
  },
  {
   "cell_type": "code",
   "execution_count": 4,
   "metadata": {},
   "outputs": [],
   "source": [
    "from numpy.random import default_rng\n",
    "rng = default_rng()\n",
    "vals = rng.uniform(low=0.0, high=1.0, size=10000)    "
   ]
  },
  {
   "cell_type": "code",
   "execution_count": 5,
   "metadata": {},
   "outputs": [
    {
     "name": "stdout",
     "output_type": "stream",
     "text": [
      "     customer_id is_consumer is_bad_actor\n",
      "0              1           1            0\n",
      "1              2           1            0\n",
      "2              3           1            0\n",
      "3              4           1            0\n",
      "4              5           1            0\n",
      "...          ...         ...          ...\n",
      "9995        9996           0            0\n",
      "9996        9997           1            0\n",
      "9997        9998           1            0\n",
      "9998        9999           1            0\n",
      "9999       10000           0            0\n",
      "\n",
      "[10000 rows x 3 columns]\n"
     ]
    }
   ],
   "source": [
    "customers_df = pd.DataFrame(columns = ['customer_id', 'is_consumer', 'is_bad_actor'])\n",
    "\n",
    "cid = 0\n",
    "for v in vals:\n",
    "    cid = cid + 1\n",
    "    if v < 0.03:\n",
    "        df = pd.DataFrame([[cid, 1, 1]], columns = ['customer_id', 'is_consumer', 'is_bad_actor'])\n",
    "        customers_df = pd.concat([customers_df, df], ignore_index = True)\n",
    "    elif v < 0.9:\n",
    "        df = pd.DataFrame([[cid, 1, 0]], columns = ['customer_id', 'is_consumer', 'is_bad_actor'])\n",
    "        customers_df = pd.concat([customers_df, df], ignore_index = True)\n",
    "    else:\n",
    "        df = pd.DataFrame([[cid, 0, 0]], columns = ['customer_id', 'is_consumer', 'is_bad_actor'])\n",
    "        customers_df = pd.concat([customers_df, df], ignore_index = True)\n",
    "\n",
    "print(customers_df)\n"
   ]
  },
  {
   "cell_type": "markdown",
   "metadata": {},
   "source": [
    "## Orders\n",
    "\n",
    "Now that we have customers and products, we can create the table of orders. Although the \"is_bad_actor\" variable is unknown to us, we can assume that we know at some point whether each order was fraudulent or not. At that point, we could cancel accounts that are generating lots of fraudulent orders, but in practice, bad actors just create new accounts.\n",
    "\n",
    "The ordering profile is going to be as follows:\n",
    "- Consumers order on average 5 products, with a fraud rate of 1% (if they are *not* bad actors)\n",
    "- Businesses order on average 50 products, with a fraud rate of 0.1% (in this example, businesses are never bad actors)\n",
    "- Bad actors look like consumers but mimic businesses, and will order 50 products, with a fraud rate of 99%"
   ]
  },
  {
   "cell_type": "code",
   "execution_count": 6,
   "metadata": {},
   "outputs": [],
   "source": [
    "orders_df = pd.DataFrame(columns = ['customer_id', 'product_id', 'is_fraud'])\n",
    "\n",
    "for num, row in customers_df.iterrows():\n",
    "    rnd_fraud = rng.uniform(low=0.0, high=1.0, size=1)\n",
    "    cid = row['customer_id']\n",
    "    if row['is_bad_actor'] == 1:\n",
    "        n_products = int(rng.normal(50, 10, 1))\n",
    "        if n_products < 0:\n",
    "            n_products = 0\n",
    "        product_list = rng.integers(100001, 110000, n_products)\n",
    "        fraud_list = [ 1 if f < 0.99 else 0 for f in rng.uniform(low=0.0, high=1.0, size=n_products) ]\n",
    "        customer_list = [cid for i in range(n_products)]\n",
    "    elif row['is_consumer'] == 1:\n",
    "        n_products = int(rng.normal(5, 2, 1))\n",
    "        if n_products < 0:\n",
    "            n_products = 0\n",
    "        product_list = rng.integers(100001, 110000, n_products)\n",
    "        fraud_list = [ 1 if f < 0.01 else 0 for f in rng.uniform(low=0.0, high=1.0, size=n_products) ]\n",
    "        customer_list = [cid for i in range(n_products)]            \n",
    "    else: # business\n",
    "        n_products = int(rng.normal(50, 10, 1))\n",
    "        if n_products < 0:\n",
    "            n_products = 0\n",
    "        product_list = rng.integers(100001, 110000, n_products)\n",
    "        fraud_list = [ 1 if f < 0.001 else 0 for f in rng.uniform(low=0.0, high=1.0, size=n_products) ]\n",
    "        customer_list = [cid for i in range(n_products)]            \n",
    "\n",
    "\n",
    "    orders_df = pd.concat([orders_df, pd.DataFrame(zip(customer_list, product_list, fraud_list), columns=['customer_id', 'product_id', 'is_fraud'])])"
   ]
  },
  {
   "cell_type": "code",
   "execution_count": 7,
   "metadata": {},
   "outputs": [
    {
     "data": {
      "text/plain": [
       "0.1485726601226513"
      ]
     },
     "execution_count": 7,
     "metadata": {},
     "output_type": "execute_result"
    }
   ],
   "source": [
    "orders_df['is_fraud'].sum() / orders_df['is_fraud'].count()"
   ]
  },
  {
   "cell_type": "markdown",
   "metadata": {},
   "source": [
    "## Saving the data for the next step\n",
    "\n",
    "Let's save the data in CSVs so that we can start from here in the next step."
   ]
  },
  {
   "cell_type": "code",
   "execution_count": 8,
   "metadata": {},
   "outputs": [],
   "source": [
    "customers_df.to_csv(\"customers.csv\", index=False)\n",
    "products_df.to_csv(\"products.csv\", index=False)\n",
    "orders_df.to_csv(\"orders.csv\", index=False)"
   ]
  },
  {
   "cell_type": "code",
   "execution_count": null,
   "metadata": {},
   "outputs": [],
   "source": []
  }
 ],
 "metadata": {
  "kernelspec": {
   "display_name": "gnn",
   "language": "python",
   "name": "gnn"
  },
  "language_info": {
   "codemirror_mode": {
    "name": "ipython",
    "version": 3
   },
   "file_extension": ".py",
   "mimetype": "text/x-python",
   "name": "python",
   "nbconvert_exporter": "python",
   "pygments_lexer": "ipython3",
   "version": "3.9.1"
  }
 },
 "nbformat": 4,
 "nbformat_minor": 4
}
